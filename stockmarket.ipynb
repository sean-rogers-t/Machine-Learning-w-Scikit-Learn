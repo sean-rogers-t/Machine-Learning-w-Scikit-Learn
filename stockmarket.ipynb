{
 "cells": [
  {
   "cell_type": "code",
   "execution_count": 277,
   "metadata": {},
   "outputs": [],
   "source": [
    "import pandas as pd\n",
    "import numpy as np\n",
    "from datetime import datetime\n",
    "from datetime import timedelta\n",
    "import re\n",
    "from sklearn.linear_model import LinearRegression\n",
    "from sklearn.metrics import mean_absolute_error"
   ]
  },
  {
   "cell_type": "code",
   "execution_count": 278,
   "metadata": {},
   "outputs": [
    {
     "data": {
      "text/html": [
       "<div>\n",
       "<style scoped>\n",
       "    .dataframe tbody tr th:only-of-type {\n",
       "        vertical-align: middle;\n",
       "    }\n",
       "\n",
       "    .dataframe tbody tr th {\n",
       "        vertical-align: top;\n",
       "    }\n",
       "\n",
       "    .dataframe thead th {\n",
       "        text-align: right;\n",
       "    }\n",
       "</style>\n",
       "<table border=\"1\" class=\"dataframe\">\n",
       "  <thead>\n",
       "    <tr style=\"text-align: right;\">\n",
       "      <th></th>\n",
       "      <th>Date</th>\n",
       "      <th>Open</th>\n",
       "      <th>High</th>\n",
       "      <th>Low</th>\n",
       "      <th>Close</th>\n",
       "      <th>Volume</th>\n",
       "      <th>Adj Close</th>\n",
       "    </tr>\n",
       "  </thead>\n",
       "  <tbody>\n",
       "    <tr>\n",
       "      <td>0</td>\n",
       "      <td>1950-01-03</td>\n",
       "      <td>16.66</td>\n",
       "      <td>16.66</td>\n",
       "      <td>16.66</td>\n",
       "      <td>16.66</td>\n",
       "      <td>1260000.0</td>\n",
       "      <td>16.66</td>\n",
       "    </tr>\n",
       "    <tr>\n",
       "      <td>1</td>\n",
       "      <td>1950-01-04</td>\n",
       "      <td>16.85</td>\n",
       "      <td>16.85</td>\n",
       "      <td>16.85</td>\n",
       "      <td>16.85</td>\n",
       "      <td>1890000.0</td>\n",
       "      <td>16.85</td>\n",
       "    </tr>\n",
       "    <tr>\n",
       "      <td>2</td>\n",
       "      <td>1950-01-05</td>\n",
       "      <td>16.93</td>\n",
       "      <td>16.93</td>\n",
       "      <td>16.93</td>\n",
       "      <td>16.93</td>\n",
       "      <td>2550000.0</td>\n",
       "      <td>16.93</td>\n",
       "    </tr>\n",
       "    <tr>\n",
       "      <td>3</td>\n",
       "      <td>1950-01-06</td>\n",
       "      <td>16.98</td>\n",
       "      <td>16.98</td>\n",
       "      <td>16.98</td>\n",
       "      <td>16.98</td>\n",
       "      <td>2010000.0</td>\n",
       "      <td>16.98</td>\n",
       "    </tr>\n",
       "    <tr>\n",
       "      <td>4</td>\n",
       "      <td>1950-01-09</td>\n",
       "      <td>17.08</td>\n",
       "      <td>17.08</td>\n",
       "      <td>17.08</td>\n",
       "      <td>17.08</td>\n",
       "      <td>2520000.0</td>\n",
       "      <td>17.08</td>\n",
       "    </tr>\n",
       "  </tbody>\n",
       "</table>\n",
       "</div>"
      ],
      "text/plain": [
       "        Date   Open   High    Low  Close     Volume  Adj Close\n",
       "0 1950-01-03  16.66  16.66  16.66  16.66  1260000.0      16.66\n",
       "1 1950-01-04  16.85  16.85  16.85  16.85  1890000.0      16.85\n",
       "2 1950-01-05  16.93  16.93  16.93  16.93  2550000.0      16.93\n",
       "3 1950-01-06  16.98  16.98  16.98  16.98  2010000.0      16.98\n",
       "4 1950-01-09  17.08  17.08  17.08  17.08  2520000.0      17.08"
      ]
     },
     "execution_count": 278,
     "metadata": {},
     "output_type": "execute_result"
    }
   ],
   "source": [
    "df=pd.read_csv(\"sphist.csv\")\n",
    "df['Date']=pd.to_datetime(df['Date'])\n",
    "df.sort_values(by='Date',ascending=True,inplace=True)\n",
    "df=df.reset_index(drop=True)\n",
    "df.head()"
   ]
  },
  {
   "cell_type": "code",
   "execution_count": 279,
   "metadata": {},
   "outputs": [
    {
     "data": {
      "text/plain": [
       "0   1950-01-03\n",
       "1   1950-01-04\n",
       "2   1950-01-05\n",
       "3   1950-01-06\n",
       "4   1950-01-09\n",
       "Name: Date, dtype: datetime64[ns]"
      ]
     },
     "execution_count": 279,
     "metadata": {},
     "output_type": "execute_result"
    }
   ],
   "source": [
    "df['Date'].head()"
   ]
  },
  {
   "cell_type": "code",
   "execution_count": 280,
   "metadata": {},
   "outputs": [],
   "source": [
    "def prev_year(date):\n",
    "    prevyear=pd.Timestamp(date.year-1,date.month,date.day)\n",
    "    return prevyear\n",
    "    "
   ]
  },
  {
   "cell_type": "code",
   "execution_count": 281,
   "metadata": {},
   "outputs": [
    {
     "data": {
      "text/html": [
       "<div>\n",
       "<style scoped>\n",
       "    .dataframe tbody tr th:only-of-type {\n",
       "        vertical-align: middle;\n",
       "    }\n",
       "\n",
       "    .dataframe tbody tr th {\n",
       "        vertical-align: top;\n",
       "    }\n",
       "\n",
       "    .dataframe thead th {\n",
       "        text-align: right;\n",
       "    }\n",
       "</style>\n",
       "<table border=\"1\" class=\"dataframe\">\n",
       "  <thead>\n",
       "    <tr style=\"text-align: right;\">\n",
       "      <th></th>\n",
       "      <th>Date</th>\n",
       "      <th>Open</th>\n",
       "      <th>High</th>\n",
       "      <th>Low</th>\n",
       "      <th>Close</th>\n",
       "      <th>Volume</th>\n",
       "      <th>Adj Close</th>\n",
       "      <th>yr_avg</th>\n",
       "    </tr>\n",
       "  </thead>\n",
       "  <tbody>\n",
       "    <tr>\n",
       "      <td>0</td>\n",
       "      <td>1950-01-03</td>\n",
       "      <td>16.66</td>\n",
       "      <td>16.66</td>\n",
       "      <td>16.66</td>\n",
       "      <td>16.66</td>\n",
       "      <td>1260000.0</td>\n",
       "      <td>16.66</td>\n",
       "      <td>1</td>\n",
       "    </tr>\n",
       "    <tr>\n",
       "      <td>1</td>\n",
       "      <td>1950-01-04</td>\n",
       "      <td>16.85</td>\n",
       "      <td>16.85</td>\n",
       "      <td>16.85</td>\n",
       "      <td>16.85</td>\n",
       "      <td>1890000.0</td>\n",
       "      <td>16.85</td>\n",
       "      <td>1</td>\n",
       "    </tr>\n",
       "    <tr>\n",
       "      <td>2</td>\n",
       "      <td>1950-01-05</td>\n",
       "      <td>16.93</td>\n",
       "      <td>16.93</td>\n",
       "      <td>16.93</td>\n",
       "      <td>16.93</td>\n",
       "      <td>2550000.0</td>\n",
       "      <td>16.93</td>\n",
       "      <td>1</td>\n",
       "    </tr>\n",
       "    <tr>\n",
       "      <td>3</td>\n",
       "      <td>1950-01-06</td>\n",
       "      <td>16.98</td>\n",
       "      <td>16.98</td>\n",
       "      <td>16.98</td>\n",
       "      <td>16.98</td>\n",
       "      <td>2010000.0</td>\n",
       "      <td>16.98</td>\n",
       "      <td>1</td>\n",
       "    </tr>\n",
       "    <tr>\n",
       "      <td>4</td>\n",
       "      <td>1950-01-09</td>\n",
       "      <td>17.08</td>\n",
       "      <td>17.08</td>\n",
       "      <td>17.08</td>\n",
       "      <td>17.08</td>\n",
       "      <td>2520000.0</td>\n",
       "      <td>17.08</td>\n",
       "      <td>1</td>\n",
       "    </tr>\n",
       "  </tbody>\n",
       "</table>\n",
       "</div>"
      ],
      "text/plain": [
       "        Date   Open   High    Low  Close     Volume  Adj Close  yr_avg\n",
       "0 1950-01-03  16.66  16.66  16.66  16.66  1260000.0      16.66       1\n",
       "1 1950-01-04  16.85  16.85  16.85  16.85  1890000.0      16.85       1\n",
       "2 1950-01-05  16.93  16.93  16.93  16.93  2550000.0      16.93       1\n",
       "3 1950-01-06  16.98  16.98  16.98  16.98  2010000.0      16.98       1\n",
       "4 1950-01-09  17.08  17.08  17.08  17.08  2520000.0      17.08       1"
      ]
     },
     "execution_count": 281,
     "metadata": {},
     "output_type": "execute_result"
    }
   ],
   "source": [
    "df['yr_avg']=1\n",
    "df.head()"
   ]
  },
  {
   "cell_type": "code",
   "execution_count": 302,
   "metadata": {},
   "outputs": [],
   "source": [
    "for index,row in df.iterrows():\n",
    "    if index<250:\n",
    "        df.loc[index,'yr_avg']=0\n",
    "        df.loc[index,'five_day']=0\n",
    "        df.loc[index,'std']=0\n",
    "    else:\n",
    "        last_five_days=df.loc[index-6:index]\n",
    "        five_day=last_five_days['Close'].mean()\n",
    "        five_day_std=last_five_days['Close'].std()\n",
    "        five_day_volume=last_five_days['Volume'].mean()\n",
    "        df.loc[index,'vol_avg']=five_day_volume\n",
    "        df.loc[index,'std']=five_day_std\n",
    "        df.loc[index,'five_day']=five_day\n",
    "        date=df.loc[index,'Date']\n",
    "        if date.day!=29:\n",
    "            prevyear=prev_year(date)\n",
    "            prev_df=df[(df['Date']>=prevyear) & (df['Date']<date)]\n",
    "            yr_avg=prev_df['Close'].mean()\n",
    "            df.loc[index,'yr_avg']=yr_avg\n",
    "        if date.day==29:\n",
    "            new_date=date-timedelta(days=1)\n",
    "            prevyear=prev_year(new_date)\n",
    "            prev_df=df[(df['Date']>=prevyear) & (df['Date']<date)]\n",
    "            yr_avg=prev_df['Close'].mean()\n",
    "            df.loc[index,'yr_avg']=yr_avg\n",
    "            \n",
    "            "
   ]
  },
  {
   "cell_type": "code",
   "execution_count": 235,
   "metadata": {},
   "outputs": [],
   "source": [
    "df['five_day']=np.nan"
   ]
  },
  {
   "cell_type": "code",
   "execution_count": 268,
   "metadata": {},
   "outputs": [],
   "source": [
    "for index,row in df.iterrows():\n",
    "    if index<250:\n",
    "        df.loc[index,'five_day']=0\n",
    "    else:\n",
    "        last_five_days=df.loc[index-6:index]\n",
    "        five_day=last_five_days['Close'].mean()\n"
   ]
  },
  {
   "cell_type": "code",
   "execution_count": 291,
   "metadata": {},
   "outputs": [],
   "source": [
    "for index,row in df.iterrows():\n",
    "    df.loc[index,'day_of_week']=df.loc[index,'Date'].dayofweek"
   ]
  },
  {
   "cell_type": "code",
   "execution_count": 303,
   "metadata": {},
   "outputs": [],
   "source": [
    "data=df[df[\"Date\"] > datetime(year=1951, month=1, day=2)]\n"
   ]
  },
  {
   "cell_type": "code",
   "execution_count": 305,
   "metadata": {},
   "outputs": [
    {
     "data": {
      "text/html": [
       "<div>\n",
       "<style scoped>\n",
       "    .dataframe tbody tr th:only-of-type {\n",
       "        vertical-align: middle;\n",
       "    }\n",
       "\n",
       "    .dataframe tbody tr th {\n",
       "        vertical-align: top;\n",
       "    }\n",
       "\n",
       "    .dataframe thead th {\n",
       "        text-align: right;\n",
       "    }\n",
       "</style>\n",
       "<table border=\"1\" class=\"dataframe\">\n",
       "  <thead>\n",
       "    <tr style=\"text-align: right;\">\n",
       "      <th></th>\n",
       "      <th>Date</th>\n",
       "      <th>Open</th>\n",
       "      <th>High</th>\n",
       "      <th>Low</th>\n",
       "      <th>Close</th>\n",
       "      <th>Volume</th>\n",
       "      <th>Adj Close</th>\n",
       "      <th>yr_avg</th>\n",
       "      <th>five_day</th>\n",
       "      <th>day_of_week</th>\n",
       "      <th>std</th>\n",
       "      <th>vol_avg</th>\n",
       "    </tr>\n",
       "  </thead>\n",
       "  <tbody>\n",
       "    <tr>\n",
       "      <td>250</td>\n",
       "      <td>1951-01-03</td>\n",
       "      <td>20.690001</td>\n",
       "      <td>20.690001</td>\n",
       "      <td>20.690001</td>\n",
       "      <td>20.690001</td>\n",
       "      <td>3370000.0</td>\n",
       "      <td>20.690001</td>\n",
       "      <td>18.406760</td>\n",
       "      <td>20.365714</td>\n",
       "      <td>2.0</td>\n",
       "      <td>0.306424</td>\n",
       "      <td>3.102857e+06</td>\n",
       "    </tr>\n",
       "    <tr>\n",
       "      <td>251</td>\n",
       "      <td>1951-01-04</td>\n",
       "      <td>20.870001</td>\n",
       "      <td>20.870001</td>\n",
       "      <td>20.870001</td>\n",
       "      <td>20.870001</td>\n",
       "      <td>3390000.0</td>\n",
       "      <td>20.870001</td>\n",
       "      <td>18.422880</td>\n",
       "      <td>20.480000</td>\n",
       "      <td>3.0</td>\n",
       "      <td>0.326293</td>\n",
       "      <td>3.198571e+06</td>\n",
       "    </tr>\n",
       "    <tr>\n",
       "      <td>252</td>\n",
       "      <td>1951-01-05</td>\n",
       "      <td>20.870001</td>\n",
       "      <td>20.870001</td>\n",
       "      <td>20.870001</td>\n",
       "      <td>20.870001</td>\n",
       "      <td>3390000.0</td>\n",
       "      <td>20.870001</td>\n",
       "      <td>18.438960</td>\n",
       "      <td>20.615714</td>\n",
       "      <td>4.0</td>\n",
       "      <td>0.240961</td>\n",
       "      <td>3.302857e+06</td>\n",
       "    </tr>\n",
       "    <tr>\n",
       "      <td>253</td>\n",
       "      <td>1951-01-08</td>\n",
       "      <td>21.000000</td>\n",
       "      <td>21.000000</td>\n",
       "      <td>21.000000</td>\n",
       "      <td>21.000000</td>\n",
       "      <td>2780000.0</td>\n",
       "      <td>21.000000</td>\n",
       "      <td>18.460643</td>\n",
       "      <td>20.715715</td>\n",
       "      <td>0.0</td>\n",
       "      <td>0.233228</td>\n",
       "      <td>3.280000e+06</td>\n",
       "    </tr>\n",
       "    <tr>\n",
       "      <td>254</td>\n",
       "      <td>1951-01-09</td>\n",
       "      <td>21.120001</td>\n",
       "      <td>21.120001</td>\n",
       "      <td>21.120001</td>\n",
       "      <td>21.120001</td>\n",
       "      <td>3800000.0</td>\n",
       "      <td>21.120001</td>\n",
       "      <td>18.470800</td>\n",
       "      <td>20.821429</td>\n",
       "      <td>1.0</td>\n",
       "      <td>0.223191</td>\n",
       "      <td>3.314286e+06</td>\n",
       "    </tr>\n",
       "  </tbody>\n",
       "</table>\n",
       "</div>"
      ],
      "text/plain": [
       "          Date       Open       High        Low      Close     Volume  \\\n",
       "250 1951-01-03  20.690001  20.690001  20.690001  20.690001  3370000.0   \n",
       "251 1951-01-04  20.870001  20.870001  20.870001  20.870001  3390000.0   \n",
       "252 1951-01-05  20.870001  20.870001  20.870001  20.870001  3390000.0   \n",
       "253 1951-01-08  21.000000  21.000000  21.000000  21.000000  2780000.0   \n",
       "254 1951-01-09  21.120001  21.120001  21.120001  21.120001  3800000.0   \n",
       "\n",
       "     Adj Close     yr_avg   five_day  day_of_week       std       vol_avg  \n",
       "250  20.690001  18.406760  20.365714          2.0  0.306424  3.102857e+06  \n",
       "251  20.870001  18.422880  20.480000          3.0  0.326293  3.198571e+06  \n",
       "252  20.870001  18.438960  20.615714          4.0  0.240961  3.302857e+06  \n",
       "253  21.000000  18.460643  20.715715          0.0  0.233228  3.280000e+06  \n",
       "254  21.120001  18.470800  20.821429          1.0  0.223191  3.314286e+06  "
      ]
     },
     "execution_count": 305,
     "metadata": {},
     "output_type": "execute_result"
    }
   ],
   "source": [
    "data=data.dropna(axis=0)\n",
    "data.head()"
   ]
  },
  {
   "cell_type": "code",
   "execution_count": 306,
   "metadata": {},
   "outputs": [],
   "source": [
    "train=data[data['Date'] < datetime(year=2013, month=1 , day=1)]\n",
    "test=data[data['Date'] >= datetime(year=2013, month=1 , day=1)]"
   ]
  },
  {
   "cell_type": "code",
   "execution_count": 310,
   "metadata": {},
   "outputs": [
    {
     "data": {
      "text/plain": [
       "14.650947974078699"
      ]
     },
     "execution_count": 310,
     "metadata": {},
     "output_type": "execute_result"
    }
   ],
   "source": [
    "features=['yr_avg','five_day','std']\n",
    "lr=LinearRegression()\n",
    "lr.fit(train[features],train['Close'])\n",
    "predictions=lr.predict(test[features])\n",
    "mas=mean_absolute_error(test['Close'],predictions)\n",
    "mas"
   ]
  },
  {
   "cell_type": "code",
   "execution_count": null,
   "metadata": {},
   "outputs": [],
   "source": []
  }
 ],
 "metadata": {
  "kernelspec": {
   "display_name": "Python 3",
   "language": "python",
   "name": "python3"
  },
  "language_info": {
   "codemirror_mode": {
    "name": "ipython",
    "version": 3
   },
   "file_extension": ".py",
   "mimetype": "text/x-python",
   "name": "python",
   "nbconvert_exporter": "python",
   "pygments_lexer": "ipython3",
   "version": "3.7.4"
  }
 },
 "nbformat": 4,
 "nbformat_minor": 4
}
