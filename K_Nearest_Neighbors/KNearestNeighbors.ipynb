{
 "cells": [
  {
   "cell_type": "markdown",
   "metadata": {},
   "source": [
    "# Predicting Car Prices with Nearest Neighbors\n",
    "\n",
    "In this short notebook, we are going to describe how to use the **K-Nearest Neighbors** algorithm for regression on car prices.\n",
    "\n",
    "Say we have a database of cars that have been sold and various attributes of these cars. If we get a new car in stock and want to list it, how could we determine the price?  In this notebook we'll look for the k-nearest cars, for some integer k, according to some similarity metric. Then we'll average what those k cars sold for and that we'll serve as our prediction. This we'll require a lot of data cleaning to get the data in a form so the similarity metric can be computed. We can fine-tune this model by adjusting k, the similarity metric, how we normalize our data, and what features we choose to include in our model."
   ]
  },
  {
   "cell_type": "markdown",
   "metadata": {},
   "source": [
    "<h2>Table of Contents</h2>\n",
    "<div class=\"alert alert-block alert-info\" style=\"margin-top: 20px\">\n",
    "    <ul>\n",
    "        <li>Reading, Cleaning, and Preparing the Data</li>\n",
    "        <li>The K-Nearest Neighbors Regressor</li>\n",
    "        <li>Model and Evaluation</li>\n",
    "        <li>Feature Selection</li>\n",
    "        <ul><li>Hyperparameter Tuning</li><ul>\n",
    "    </ul>\n",
    "\n",
    "</div>\n",
    "\n",
    "<hr>"
   ]
  },
  {
   "cell_type": "markdown",
   "metadata": {},
   "source": [
    "## Reading and Cleaning Data\n",
    "\n",
    "The data set we will be working with contains information on various cars. For each car we have information about the technical aspects of the vehicle such as the motor's displacement, the weight of the car, the miles per gallon, how fast the car accelerates, and more. You can read more about the data set [here](https://archive.ics.uci.edu/ml/datasets/automobile) from the very useful UCI machine learning repository. You can download it directly from [here](https://archive.ics.uci.edu/ml/machine-learning-databases/autos/imports-85.data)."
   ]
  },
  {
   "cell_type": "code",
   "execution_count": 1,
   "metadata": {},
   "outputs": [],
   "source": [
    "import pandas as pd\n",
    "import numpy as np\n",
    "import re\n",
    "from sklearn.neighbors import KNeighborsRegressor\n",
    "from sklearn.metrics import mean_squared_error\n",
    "\n",
    "cars=pd.read_csv('imports-85.data',header=None)"
   ]
  },
  {
   "cell_type": "code",
   "execution_count": 2,
   "metadata": {},
   "outputs": [],
   "source": [
    "names=open('imports-85.names')\n",
    "col_names=[]\n",
    "pattern=r'\\d\\. (.*):'\n",
    "for line in names:\n",
    "    col=re.findall(pattern,line)\n",
    "    if len(col)==1:\n",
    "        col_names.append(col[0])\n",
    "    "
   ]
  },
  {
   "cell_type": "code",
   "execution_count": 3,
   "metadata": {},
   "outputs": [
    {
     "data": {
      "text/plain": [
       "['Title',\n",
       " 'Source Information',\n",
       " 'Past Usage',\n",
       " 'Relevant Information',\n",
       " 'Number of Instances',\n",
       " 'Number of Attributes',\n",
       " 'Attribute Information',\n",
       " 'symboling',\n",
       " 'normalized-losses',\n",
       " 'make',\n",
       " 'fuel-type',\n",
       " 'aspiration',\n",
       " 'num-of-doors',\n",
       " 'body-style',\n",
       " 'drive-wheels',\n",
       " 'engine-location',\n",
       " 'wheel-base',\n",
       " 'length',\n",
       " 'width',\n",
       " 'height',\n",
       " 'curb-weight',\n",
       " 'engine-type',\n",
       " 'num-of-cylinders',\n",
       " 'engine-size',\n",
       " 'fuel-system',\n",
       " 'bore',\n",
       " 'stroke',\n",
       " 'compression-ratio',\n",
       " 'horsepower',\n",
       " 'peak-rpm',\n",
       " 'city-mpg',\n",
       " 'highway-mpg',\n",
       " 'price',\n",
       " 'Missing Attribute Values']"
      ]
     },
     "execution_count": 3,
     "metadata": {},
     "output_type": "execute_result"
    }
   ],
   "source": [
    "col_names"
   ]
  },
  {
   "cell_type": "markdown",
   "metadata": {},
   "source": [
    "Looking at the column info in the `.names` file we can safely ignore the first 7 names and the last name which give information about the dataset as a whole rather than any feature of the cars themselves."
   ]
  },
  {
   "cell_type": "code",
   "execution_count": 4,
   "metadata": {},
   "outputs": [],
   "source": [
    "col_names=col_names[7:-1]"
   ]
  },
  {
   "cell_type": "code",
   "execution_count": 5,
   "metadata": {},
   "outputs": [
    {
     "data": {
      "text/html": [
       "<div>\n",
       "<style scoped>\n",
       "    .dataframe tbody tr th:only-of-type {\n",
       "        vertical-align: middle;\n",
       "    }\n",
       "\n",
       "    .dataframe tbody tr th {\n",
       "        vertical-align: top;\n",
       "    }\n",
       "\n",
       "    .dataframe thead th {\n",
       "        text-align: right;\n",
       "    }\n",
       "</style>\n",
       "<table border=\"1\" class=\"dataframe\">\n",
       "  <thead>\n",
       "    <tr style=\"text-align: right;\">\n",
       "      <th></th>\n",
       "      <th>symboling</th>\n",
       "      <th>normalized-losses</th>\n",
       "      <th>make</th>\n",
       "      <th>fuel-type</th>\n",
       "      <th>aspiration</th>\n",
       "      <th>num-of-doors</th>\n",
       "      <th>body-style</th>\n",
       "      <th>drive-wheels</th>\n",
       "      <th>engine-location</th>\n",
       "      <th>wheel-base</th>\n",
       "      <th>...</th>\n",
       "      <th>engine-size</th>\n",
       "      <th>fuel-system</th>\n",
       "      <th>bore</th>\n",
       "      <th>stroke</th>\n",
       "      <th>compression-ratio</th>\n",
       "      <th>horsepower</th>\n",
       "      <th>peak-rpm</th>\n",
       "      <th>city-mpg</th>\n",
       "      <th>highway-mpg</th>\n",
       "      <th>price</th>\n",
       "    </tr>\n",
       "  </thead>\n",
       "  <tbody>\n",
       "    <tr>\n",
       "      <th>0</th>\n",
       "      <td>3</td>\n",
       "      <td>?</td>\n",
       "      <td>alfa-romero</td>\n",
       "      <td>gas</td>\n",
       "      <td>std</td>\n",
       "      <td>two</td>\n",
       "      <td>convertible</td>\n",
       "      <td>rwd</td>\n",
       "      <td>front</td>\n",
       "      <td>88.6</td>\n",
       "      <td>...</td>\n",
       "      <td>130</td>\n",
       "      <td>mpfi</td>\n",
       "      <td>3.47</td>\n",
       "      <td>2.68</td>\n",
       "      <td>9.0</td>\n",
       "      <td>111</td>\n",
       "      <td>5000</td>\n",
       "      <td>21</td>\n",
       "      <td>27</td>\n",
       "      <td>13495</td>\n",
       "    </tr>\n",
       "    <tr>\n",
       "      <th>1</th>\n",
       "      <td>3</td>\n",
       "      <td>?</td>\n",
       "      <td>alfa-romero</td>\n",
       "      <td>gas</td>\n",
       "      <td>std</td>\n",
       "      <td>two</td>\n",
       "      <td>convertible</td>\n",
       "      <td>rwd</td>\n",
       "      <td>front</td>\n",
       "      <td>88.6</td>\n",
       "      <td>...</td>\n",
       "      <td>130</td>\n",
       "      <td>mpfi</td>\n",
       "      <td>3.47</td>\n",
       "      <td>2.68</td>\n",
       "      <td>9.0</td>\n",
       "      <td>111</td>\n",
       "      <td>5000</td>\n",
       "      <td>21</td>\n",
       "      <td>27</td>\n",
       "      <td>16500</td>\n",
       "    </tr>\n",
       "    <tr>\n",
       "      <th>2</th>\n",
       "      <td>1</td>\n",
       "      <td>?</td>\n",
       "      <td>alfa-romero</td>\n",
       "      <td>gas</td>\n",
       "      <td>std</td>\n",
       "      <td>two</td>\n",
       "      <td>hatchback</td>\n",
       "      <td>rwd</td>\n",
       "      <td>front</td>\n",
       "      <td>94.5</td>\n",
       "      <td>...</td>\n",
       "      <td>152</td>\n",
       "      <td>mpfi</td>\n",
       "      <td>2.68</td>\n",
       "      <td>3.47</td>\n",
       "      <td>9.0</td>\n",
       "      <td>154</td>\n",
       "      <td>5000</td>\n",
       "      <td>19</td>\n",
       "      <td>26</td>\n",
       "      <td>16500</td>\n",
       "    </tr>\n",
       "    <tr>\n",
       "      <th>3</th>\n",
       "      <td>2</td>\n",
       "      <td>164</td>\n",
       "      <td>audi</td>\n",
       "      <td>gas</td>\n",
       "      <td>std</td>\n",
       "      <td>four</td>\n",
       "      <td>sedan</td>\n",
       "      <td>fwd</td>\n",
       "      <td>front</td>\n",
       "      <td>99.8</td>\n",
       "      <td>...</td>\n",
       "      <td>109</td>\n",
       "      <td>mpfi</td>\n",
       "      <td>3.19</td>\n",
       "      <td>3.40</td>\n",
       "      <td>10.0</td>\n",
       "      <td>102</td>\n",
       "      <td>5500</td>\n",
       "      <td>24</td>\n",
       "      <td>30</td>\n",
       "      <td>13950</td>\n",
       "    </tr>\n",
       "    <tr>\n",
       "      <th>4</th>\n",
       "      <td>2</td>\n",
       "      <td>164</td>\n",
       "      <td>audi</td>\n",
       "      <td>gas</td>\n",
       "      <td>std</td>\n",
       "      <td>four</td>\n",
       "      <td>sedan</td>\n",
       "      <td>4wd</td>\n",
       "      <td>front</td>\n",
       "      <td>99.4</td>\n",
       "      <td>...</td>\n",
       "      <td>136</td>\n",
       "      <td>mpfi</td>\n",
       "      <td>3.19</td>\n",
       "      <td>3.40</td>\n",
       "      <td>8.0</td>\n",
       "      <td>115</td>\n",
       "      <td>5500</td>\n",
       "      <td>18</td>\n",
       "      <td>22</td>\n",
       "      <td>17450</td>\n",
       "    </tr>\n",
       "  </tbody>\n",
       "</table>\n",
       "<p>5 rows × 26 columns</p>\n",
       "</div>"
      ],
      "text/plain": [
       "   symboling normalized-losses         make fuel-type aspiration num-of-doors  \\\n",
       "0          3                 ?  alfa-romero       gas        std          two   \n",
       "1          3                 ?  alfa-romero       gas        std          two   \n",
       "2          1                 ?  alfa-romero       gas        std          two   \n",
       "3          2               164         audi       gas        std         four   \n",
       "4          2               164         audi       gas        std         four   \n",
       "\n",
       "    body-style drive-wheels engine-location  wheel-base  ...  engine-size  \\\n",
       "0  convertible          rwd           front        88.6  ...          130   \n",
       "1  convertible          rwd           front        88.6  ...          130   \n",
       "2    hatchback          rwd           front        94.5  ...          152   \n",
       "3        sedan          fwd           front        99.8  ...          109   \n",
       "4        sedan          4wd           front        99.4  ...          136   \n",
       "\n",
       "   fuel-system  bore  stroke compression-ratio horsepower  peak-rpm city-mpg  \\\n",
       "0         mpfi  3.47    2.68               9.0        111      5000       21   \n",
       "1         mpfi  3.47    2.68               9.0        111      5000       21   \n",
       "2         mpfi  2.68    3.47               9.0        154      5000       19   \n",
       "3         mpfi  3.19    3.40              10.0        102      5500       24   \n",
       "4         mpfi  3.19    3.40               8.0        115      5500       18   \n",
       "\n",
       "  highway-mpg  price  \n",
       "0          27  13495  \n",
       "1          27  16500  \n",
       "2          26  16500  \n",
       "3          30  13950  \n",
       "4          22  17450  \n",
       "\n",
       "[5 rows x 26 columns]"
      ]
     },
     "execution_count": 5,
     "metadata": {},
     "output_type": "execute_result"
    }
   ],
   "source": [
    "# Take a look at the data\n",
    "cars.columns=col_names\n",
    "cars.head()"
   ]
  },
  {
   "cell_type": "markdown",
   "metadata": {},
   "source": [
    "The columns have the following info given"
   ]
  },
  {
   "cell_type": "markdown",
   "metadata": {},
   "source": [
    "1. symboling:                -3, -2, -1, 0, 1, 2, 3.\n",
    "2. normalized-losses:        continuous from 65 to 256.\n",
    "3. make:                     alfa-romero, audi, bmw, chevrolet, dodge, honda,\n",
    "                               isuzu, jaguar, mazda, mercedes-benz, mercury,\n",
    "                               mitsubishi, nissan, peugot, plymouth, porsche,\n",
    "                               renault, saab, subaru, toyota, volkswagen, volvo\n",
    "4. fuel-type:                diesel, gas.\n",
    "5. aspiration:               std, turbo.\n",
    "6. num-of-doors:             four, two.\n",
    "7. body-style:               hardtop, wagon, sedan, hatchback, convertible.\n",
    "8. drive-wheels:             4wd, fwd, rwd.\n",
    "9. engine-location:          front, rear.\n",
    "10. wheel-base:               continuous from 86.6 120.9.\n",
    "11. length:                   continuous from 141.1 to 208.1.\n",
    "12. width:                    continuous from 60.3 to 72.3.\n",
    "13. height:                   continuous from 47.8 to 59.8.\n",
    "14. curb-weight:              continuous from 1488 to 4066.\n",
    "15. engine-type:              dohc, dohcv, l, ohc, ohcf, ohcv, rotor.\n",
    "16. num-of-cylinders:         eight, five, four, six, three, twelve, two.\n",
    "17. engine-size:              continuous from 61 to 326.\n",
    "18. fuel-system:              1bbl, 2bbl, 4bbl, idi, mfi, mpfi, spdi, spfi.\n",
    "19. bore:                     continuous from 2.54 to 3.94.\n",
    "20. stroke:                   continuous from 2.07 to 4.17.\n",
    "21. compression-ratio:        continuous from 7 to 23.\n",
    "22. horsepower:               continuous from 48 to 288.\n",
    "23. peak-rpm:                 continuous from 4150 to 6600.\n",
    "24. city-mpg:                 continuous from 13 to 49.\n",
    "25. highway-mpg:              continuous from 16 to 54.\n",
    "26. price:                    continuous from 5118 to 45400."
   ]
  },
  {
   "cell_type": "markdown",
   "metadata": {},
   "source": [
    "Price will be our target and for now we'll look at  the columns and do any cleaning necessary. For example, the `normalized-losses` column uses `?` to represent missing values. We'll replace these with `np.nan`. Let's also look at the dtypes of the columns"
   ]
  },
  {
   "cell_type": "code",
   "execution_count": 6,
   "metadata": {},
   "outputs": [],
   "source": [
    "cars=cars.replace('?',np.nan)"
   ]
  },
  {
   "cell_type": "code",
   "execution_count": 7,
   "metadata": {},
   "outputs": [
    {
     "data": {
      "text/plain": [
       "symboling              int64\n",
       "normalized-losses     object\n",
       "make                  object\n",
       "fuel-type             object\n",
       "aspiration            object\n",
       "num-of-doors          object\n",
       "body-style            object\n",
       "drive-wheels          object\n",
       "engine-location       object\n",
       "wheel-base           float64\n",
       "length               float64\n",
       "width                float64\n",
       "height               float64\n",
       "curb-weight            int64\n",
       "engine-type           object\n",
       "num-of-cylinders      object\n",
       "engine-size            int64\n",
       "fuel-system           object\n",
       "bore                  object\n",
       "stroke                object\n",
       "compression-ratio    float64\n",
       "horsepower            object\n",
       "peak-rpm              object\n",
       "city-mpg               int64\n",
       "highway-mpg            int64\n",
       "price                 object\n",
       "dtype: object"
      ]
     },
     "execution_count": 7,
     "metadata": {},
     "output_type": "execute_result"
    }
   ],
   "source": [
    "cars.dtypes"
   ]
  },
  {
   "cell_type": "code",
   "execution_count": 8,
   "metadata": {},
   "outputs": [
    {
     "data": {
      "text/plain": [
       "Index(['normalized-losses', 'bore', 'stroke', 'horsepower', 'peak-rpm',\n",
       "       'price'],\n",
       "      dtype='object')"
      ]
     },
     "execution_count": 8,
     "metadata": {},
     "output_type": "execute_result"
    }
   ],
   "source": [
    "cars.columns[[1,18,19,21,22,25]]"
   ]
  },
  {
   "cell_type": "markdown",
   "metadata": {},
   "source": [
    "Looking at the data we conclude that the columns ['normalized-lossed','bore','stroke','peak-rpm', and 'price'] can be easily converted to the `float64` type."
   ]
  },
  {
   "cell_type": "code",
   "execution_count": 9,
   "metadata": {},
   "outputs": [],
   "source": [
    "cars.iloc[:,[1,18,19,21,22,25]]=cars.iloc[:,[1,18,19,21,22,25]].astype(float)\n"
   ]
  },
  {
   "cell_type": "markdown",
   "metadata": {},
   "source": [
    "Now let's see which columns have missing data!"
   ]
  },
  {
   "cell_type": "code",
   "execution_count": 10,
   "metadata": {},
   "outputs": [
    {
     "data": {
      "text/plain": [
       "symboling             0\n",
       "normalized-losses    41\n",
       "make                  0\n",
       "fuel-type             0\n",
       "aspiration            0\n",
       "num-of-doors          2\n",
       "body-style            0\n",
       "drive-wheels          0\n",
       "engine-location       0\n",
       "wheel-base            0\n",
       "length                0\n",
       "width                 0\n",
       "height                0\n",
       "curb-weight           0\n",
       "engine-type           0\n",
       "num-of-cylinders      0\n",
       "engine-size           0\n",
       "fuel-system           0\n",
       "bore                  4\n",
       "stroke                4\n",
       "compression-ratio     0\n",
       "horsepower            2\n",
       "peak-rpm              2\n",
       "city-mpg              0\n",
       "highway-mpg           0\n",
       "price                 4\n",
       "dtype: int64"
      ]
     },
     "execution_count": 10,
     "metadata": {},
     "output_type": "execute_result"
    }
   ],
   "source": [
    "cars.isna().sum()"
   ]
  },
  {
   "cell_type": "markdown",
   "metadata": {},
   "source": [
    "Since our target is `price` let's certainly drop any rows missing this value."
   ]
  },
  {
   "cell_type": "code",
   "execution_count": 11,
   "metadata": {},
   "outputs": [],
   "source": [
    "cars=cars.dropna(subset=['price'])"
   ]
  },
  {
   "cell_type": "code",
   "execution_count": 12,
   "metadata": {},
   "outputs": [
    {
     "data": {
      "text/plain": [
       "symboling             0\n",
       "normalized-losses    37\n",
       "make                  0\n",
       "fuel-type             0\n",
       "aspiration            0\n",
       "num-of-doors          2\n",
       "body-style            0\n",
       "drive-wheels          0\n",
       "engine-location       0\n",
       "wheel-base            0\n",
       "length                0\n",
       "width                 0\n",
       "height                0\n",
       "curb-weight           0\n",
       "engine-type           0\n",
       "num-of-cylinders      0\n",
       "engine-size           0\n",
       "fuel-system           0\n",
       "bore                  4\n",
       "stroke                4\n",
       "compression-ratio     0\n",
       "horsepower            2\n",
       "peak-rpm              2\n",
       "city-mpg              0\n",
       "highway-mpg           0\n",
       "price                 0\n",
       "dtype: int64"
      ]
     },
     "execution_count": 12,
     "metadata": {},
     "output_type": "execute_result"
    }
   ],
   "source": [
    "cars.isna().sum()"
   ]
  },
  {
   "cell_type": "markdown",
   "metadata": {},
   "source": [
    "To fill in the missing values we will group the cars by make, engine location and number of doors and impune the missing values based on the the means of these groups."
   ]
  },
  {
   "cell_type": "code",
   "execution_count": 13,
   "metadata": {},
   "outputs": [],
   "source": [
    "# impute missing values using averages after grouping by make and bodytype. \n",
    "# If the car has a unique make and body-style, take the average of its body-type.\n",
    "# I.e. if it's the only Nissan sedan, just take the average of all sedans.\n",
    "cars_cleaner=cars.copy()\n",
    "cars_cleaner[['normalized-losses', 'bore','stroke','horsepower','peak-rpm']]=cars.groupby(['make','body-style']).transform(lambda x:x.fillna(x.mean()))[['normalized-losses', 'bore','stroke','horsepower','peak-rpm']]"
   ]
  },
  {
   "cell_type": "code",
   "execution_count": 14,
   "metadata": {},
   "outputs": [],
   "source": [
    "cars_cleaner[['normalized-losses', 'bore','stroke','horsepower','peak-rpm']]=cars.groupby('body-style').transform(lambda x:x.fillna(x.mean()))[['normalized-losses', 'bore','stroke','horsepower','peak-rpm']]"
   ]
  },
  {
   "cell_type": "code",
   "execution_count": 15,
   "metadata": {},
   "outputs": [
    {
     "data": {
      "text/plain": [
       "symboling            0\n",
       "normalized-losses    0\n",
       "make                 0\n",
       "fuel-type            0\n",
       "aspiration           0\n",
       "num-of-doors         2\n",
       "body-style           0\n",
       "drive-wheels         0\n",
       "engine-location      0\n",
       "wheel-base           0\n",
       "length               0\n",
       "width                0\n",
       "height               0\n",
       "curb-weight          0\n",
       "engine-type          0\n",
       "num-of-cylinders     0\n",
       "engine-size          0\n",
       "fuel-system          0\n",
       "bore                 0\n",
       "stroke               0\n",
       "compression-ratio    0\n",
       "horsepower           0\n",
       "peak-rpm             0\n",
       "city-mpg             0\n",
       "highway-mpg          0\n",
       "price                0\n",
       "dtype: int64"
      ]
     },
     "execution_count": 15,
     "metadata": {},
     "output_type": "execute_result"
    }
   ],
   "source": [
    "cars_cleaner.isna().sum()"
   ]
  },
  {
   "cell_type": "markdown",
   "metadata": {},
   "source": [
    "### Features\n",
    "Now, we'll limit our features to the continuous numeric columns."
   ]
  },
  {
   "cell_type": "code",
   "execution_count": 17,
   "metadata": {},
   "outputs": [
    {
     "data": {
      "text/plain": [
       "normalized-losses    0\n",
       "wheel-base           0\n",
       "length               0\n",
       "width                0\n",
       "height               0\n",
       "curb-weight          0\n",
       "engine-size          0\n",
       "bore                 0\n",
       "stroke               0\n",
       "compression-ratio    0\n",
       "horsepower           0\n",
       "peak-rpm             0\n",
       "city-mpg             0\n",
       "highway-mpg          0\n",
       "price                0\n",
       "dtype: int64"
      ]
     },
     "execution_count": 17,
     "metadata": {},
     "output_type": "execute_result"
    }
   ],
   "source": [
    "continuous_values_cols = ['normalized-losses', 'wheel-base', 'length', 'width', 'height', 'curb-weight', 'engine-size', 'bore', 'stroke', 'compression-ratio', 'horsepower', 'peak-rpm', 'city-mpg', 'highway-mpg', 'price']\n",
    "numeric_cars = cars_cleaner[continuous_values_cols]\n",
    "numeric_cars.isna().sum()"
   ]
  },
  {
   "cell_type": "markdown",
   "metadata": {},
   "source": [
    "Now finally to prepare the data for our model we will normalize all values to be between zero and one using min-max normalization."
   ]
  },
  {
   "cell_type": "code",
   "execution_count": 18,
   "metadata": {},
   "outputs": [],
   "source": [
    "# Specify the target and feature columns for the model.\n",
    "target=numeric_cars['price']\n",
    "features=numeric_cars.drop('price',axis=1).columns"
   ]
  },
  {
   "cell_type": "code",
   "execution_count": 19,
   "metadata": {
    "scrolled": true
   },
   "outputs": [
    {
     "name": "stderr",
     "output_type": "stream",
     "text": [
      "/Users/seanr/anaconda3/lib/python3.7/site-packages/pandas/core/frame.py:3391: SettingWithCopyWarning: \n",
      "A value is trying to be set on a copy of a slice from a DataFrame.\n",
      "Try using .loc[row_indexer,col_indexer] = value instead\n",
      "\n",
      "See the caveats in the documentation: http://pandas.pydata.org/pandas-docs/stable/indexing.html#indexing-view-versus-copy\n",
      "  self[k1] = value[k2]\n"
     ]
    }
   ],
   "source": [
    "# Applying min-max normalization to the features.\n",
    "numeric_cars[features]=(numeric_cars[features]-numeric_cars[features].min())/(numeric_cars[features].max()-numeric_cars[features].min())"
   ]
  },
  {
   "cell_type": "code",
   "execution_count": 20,
   "metadata": {},
   "outputs": [
    {
     "data": {
      "text/html": [
       "<div>\n",
       "<style scoped>\n",
       "    .dataframe tbody tr th:only-of-type {\n",
       "        vertical-align: middle;\n",
       "    }\n",
       "\n",
       "    .dataframe tbody tr th {\n",
       "        vertical-align: top;\n",
       "    }\n",
       "\n",
       "    .dataframe thead th {\n",
       "        text-align: right;\n",
       "    }\n",
       "</style>\n",
       "<table border=\"1\" class=\"dataframe\">\n",
       "  <thead>\n",
       "    <tr style=\"text-align: right;\">\n",
       "      <th></th>\n",
       "      <th>normalized-losses</th>\n",
       "      <th>wheel-base</th>\n",
       "      <th>length</th>\n",
       "      <th>width</th>\n",
       "      <th>height</th>\n",
       "      <th>curb-weight</th>\n",
       "      <th>engine-size</th>\n",
       "      <th>bore</th>\n",
       "      <th>stroke</th>\n",
       "      <th>compression-ratio</th>\n",
       "      <th>horsepower</th>\n",
       "      <th>peak-rpm</th>\n",
       "      <th>city-mpg</th>\n",
       "      <th>highway-mpg</th>\n",
       "    </tr>\n",
       "  </thead>\n",
       "  <tbody>\n",
       "    <tr>\n",
       "      <th>0</th>\n",
       "      <td>0.382199</td>\n",
       "      <td>0.058309</td>\n",
       "      <td>0.413433</td>\n",
       "      <td>0.324786</td>\n",
       "      <td>0.083333</td>\n",
       "      <td>0.411171</td>\n",
       "      <td>0.260377</td>\n",
       "      <td>0.664286</td>\n",
       "      <td>0.290476</td>\n",
       "      <td>0.1250</td>\n",
       "      <td>0.294393</td>\n",
       "      <td>0.346939</td>\n",
       "      <td>0.222222</td>\n",
       "      <td>0.289474</td>\n",
       "    </tr>\n",
       "    <tr>\n",
       "      <th>1</th>\n",
       "      <td>0.382199</td>\n",
       "      <td>0.058309</td>\n",
       "      <td>0.413433</td>\n",
       "      <td>0.324786</td>\n",
       "      <td>0.083333</td>\n",
       "      <td>0.411171</td>\n",
       "      <td>0.260377</td>\n",
       "      <td>0.664286</td>\n",
       "      <td>0.290476</td>\n",
       "      <td>0.1250</td>\n",
       "      <td>0.294393</td>\n",
       "      <td>0.346939</td>\n",
       "      <td>0.222222</td>\n",
       "      <td>0.289474</td>\n",
       "    </tr>\n",
       "    <tr>\n",
       "      <th>2</th>\n",
       "      <td>0.351222</td>\n",
       "      <td>0.230321</td>\n",
       "      <td>0.449254</td>\n",
       "      <td>0.444444</td>\n",
       "      <td>0.383333</td>\n",
       "      <td>0.517843</td>\n",
       "      <td>0.343396</td>\n",
       "      <td>0.100000</td>\n",
       "      <td>0.666667</td>\n",
       "      <td>0.1250</td>\n",
       "      <td>0.495327</td>\n",
       "      <td>0.346939</td>\n",
       "      <td>0.166667</td>\n",
       "      <td>0.263158</td>\n",
       "    </tr>\n",
       "    <tr>\n",
       "      <th>3</th>\n",
       "      <td>0.518325</td>\n",
       "      <td>0.384840</td>\n",
       "      <td>0.529851</td>\n",
       "      <td>0.504274</td>\n",
       "      <td>0.541667</td>\n",
       "      <td>0.329325</td>\n",
       "      <td>0.181132</td>\n",
       "      <td>0.464286</td>\n",
       "      <td>0.633333</td>\n",
       "      <td>0.1875</td>\n",
       "      <td>0.252336</td>\n",
       "      <td>0.551020</td>\n",
       "      <td>0.305556</td>\n",
       "      <td>0.368421</td>\n",
       "    </tr>\n",
       "    <tr>\n",
       "      <th>4</th>\n",
       "      <td>0.518325</td>\n",
       "      <td>0.373178</td>\n",
       "      <td>0.529851</td>\n",
       "      <td>0.521368</td>\n",
       "      <td>0.541667</td>\n",
       "      <td>0.518231</td>\n",
       "      <td>0.283019</td>\n",
       "      <td>0.464286</td>\n",
       "      <td>0.633333</td>\n",
       "      <td>0.0625</td>\n",
       "      <td>0.313084</td>\n",
       "      <td>0.551020</td>\n",
       "      <td>0.138889</td>\n",
       "      <td>0.157895</td>\n",
       "    </tr>\n",
       "  </tbody>\n",
       "</table>\n",
       "</div>"
      ],
      "text/plain": [
       "   normalized-losses  wheel-base    length     width    height  curb-weight  \\\n",
       "0           0.382199    0.058309  0.413433  0.324786  0.083333     0.411171   \n",
       "1           0.382199    0.058309  0.413433  0.324786  0.083333     0.411171   \n",
       "2           0.351222    0.230321  0.449254  0.444444  0.383333     0.517843   \n",
       "3           0.518325    0.384840  0.529851  0.504274  0.541667     0.329325   \n",
       "4           0.518325    0.373178  0.529851  0.521368  0.541667     0.518231   \n",
       "\n",
       "   engine-size      bore    stroke  compression-ratio  horsepower  peak-rpm  \\\n",
       "0     0.260377  0.664286  0.290476             0.1250    0.294393  0.346939   \n",
       "1     0.260377  0.664286  0.290476             0.1250    0.294393  0.346939   \n",
       "2     0.343396  0.100000  0.666667             0.1250    0.495327  0.346939   \n",
       "3     0.181132  0.464286  0.633333             0.1875    0.252336  0.551020   \n",
       "4     0.283019  0.464286  0.633333             0.0625    0.313084  0.551020   \n",
       "\n",
       "   city-mpg  highway-mpg  \n",
       "0  0.222222     0.289474  \n",
       "1  0.222222     0.289474  \n",
       "2  0.166667     0.263158  \n",
       "3  0.305556     0.368421  \n",
       "4  0.138889     0.157895  "
      ]
     },
     "execution_count": 20,
     "metadata": {},
     "output_type": "execute_result"
    }
   ],
   "source": [
    "numeric_cars[features].head()"
   ]
  },
  {
   "cell_type": "markdown",
   "metadata": {},
   "source": [
    "## The K-Nearest Neighbors Regressor\n",
    "\n",
    "Now we will briefly discuss how one applies regression with k-nearest neighbors. Our data set has 14 numeric features ['normalized-losses', 'wheel-base', 'length', 'width', 'height', 'curb-weight', 'engine-size', 'bore', 'stroke', 'compression-ratio', 'horsepower', 'peak-rpm', 'city-mpg', 'highway-mpg', 'price']. \n",
    "\n",
    "To determine whether two data-points, i.e. cars, are 'close' to one another we will use some metric. The most common metric for continuous data is the euclidean-distance (the standard notion of distance between two points in space. \n",
    "\n",
    "For example, let's say we restricted our features to ['engine-size', 'highway-mpg']. If we were performing 5-nearest neighbors regression with these features we would predict the new price of a car as follows. Simply find the 5 cars in the training set that are closest to the new car under the euclidean distance and take the average of their prices. This average is your predicted price! We'll demonstrate below!\n",
    "\n",
    "### Example"
   ]
  },
  {
   "cell_type": "code",
   "execution_count": 88,
   "metadata": {},
   "outputs": [],
   "source": [
    "# We'll take the first 150 points as our test-set\n",
    "# The 160th car in our data set will serve as a test point. We want to predict this car's price with KNN.\n",
    "\n",
    "example=numeric_cars.loc[:150,['engine-size','highway-mpg','price']]\n",
    "test_point=numeric_cars.loc[160,['engine-size','highway-mpg','price']]"
   ]
  },
  {
   "cell_type": "code",
   "execution_count": 89,
   "metadata": {},
   "outputs": [],
   "source": [
    "x0,y0,z0=test_point\n",
    "# Create 'distance' column which is the squared distance from every sample in the example set from the test_point\n",
    "example['distance']=(example['engine-size']-x0)**2+(example['highway-mpg']-y0)**2"
   ]
  },
  {
   "cell_type": "code",
   "execution_count": 91,
   "metadata": {},
   "outputs": [
    {
     "data": {
      "text/html": [
       "<div>\n",
       "<style scoped>\n",
       "    .dataframe tbody tr th:only-of-type {\n",
       "        vertical-align: middle;\n",
       "    }\n",
       "\n",
       "    .dataframe tbody tr th {\n",
       "        vertical-align: top;\n",
       "    }\n",
       "\n",
       "    .dataframe thead th {\n",
       "        text-align: right;\n",
       "    }\n",
       "</style>\n",
       "<table border=\"1\" class=\"dataframe\">\n",
       "  <thead>\n",
       "    <tr style=\"text-align: right;\">\n",
       "      <th></th>\n",
       "      <th>engine-size</th>\n",
       "      <th>highway-mpg</th>\n",
       "      <th>price</th>\n",
       "      <th>distance</th>\n",
       "    </tr>\n",
       "  </thead>\n",
       "  <tbody>\n",
       "    <tr>\n",
       "      <th>90</th>\n",
       "      <td>0.158491</td>\n",
       "      <td>0.894737</td>\n",
       "      <td>7099.0</td>\n",
       "      <td>0.006589</td>\n",
       "    </tr>\n",
       "    <tr>\n",
       "      <th>20</th>\n",
       "      <td>0.109434</td>\n",
       "      <td>0.710526</td>\n",
       "      <td>6575.0</td>\n",
       "      <td>0.011992</td>\n",
       "    </tr>\n",
       "    <tr>\n",
       "      <th>19</th>\n",
       "      <td>0.109434</td>\n",
       "      <td>0.710526</td>\n",
       "      <td>6295.0</td>\n",
       "      <td>0.011992</td>\n",
       "    </tr>\n",
       "    <tr>\n",
       "      <th>32</th>\n",
       "      <td>0.067925</td>\n",
       "      <td>0.684211</td>\n",
       "      <td>5399.0</td>\n",
       "      <td>0.022454</td>\n",
       "    </tr>\n",
       "    <tr>\n",
       "      <th>76</th>\n",
       "      <td>0.116981</td>\n",
       "      <td>0.657895</td>\n",
       "      <td>5389.0</td>\n",
       "      <td>0.025443</td>\n",
       "    </tr>\n",
       "  </tbody>\n",
       "</table>\n",
       "</div>"
      ],
      "text/plain": [
       "    engine-size  highway-mpg   price  distance\n",
       "90     0.158491     0.894737  7099.0  0.006589\n",
       "20     0.109434     0.710526  6575.0  0.011992\n",
       "19     0.109434     0.710526  6295.0  0.011992\n",
       "32     0.067925     0.684211  5399.0  0.022454\n",
       "76     0.116981     0.657895  5389.0  0.025443"
      ]
     },
     "execution_count": 91,
     "metadata": {},
     "output_type": "execute_result"
    }
   ],
   "source": [
    "# Find the five closest points\n",
    "closest_points=example.sort_values('distance').head()\n",
    "closest_points"
   ]
  },
  {
   "cell_type": "markdown",
   "metadata": {},
   "source": [
    "Below, we'll try to give a visual demonstration of the NN algorithm. The red square is the new car whose price we are trying to determine. The orange triangles are the 5 nearest neighbors via the Euclidean distance. Finally, the green dots are the other cars in the test set."
   ]
  },
  {
   "cell_type": "code",
   "execution_count": 96,
   "metadata": {},
   "outputs": [
    {
     "data": {
      "image/png": "[encoded data removed]",
      "text/plain": [
       "<Figure size 720x504 with 1 Axes>"
      ]
     },
     "metadata": {
      "needs_background": "light"
     },
     "output_type": "display_data"
    }
   ],
   "source": [
    "import matplotlib.pyplot as plt\n",
    "import numpy as np\n",
    "from mpl_toolkits import mplot3d\n",
    "\n",
    "x=example.drop([19,20,32,76,90])['engine-size']\n",
    "y=example.drop([19,20,32,76,90])['highway-mpg']\n",
    "z=example.drop([19,20,32,76,90])['price']\n",
    "\n",
    "x1=closest_points['engine-size']\n",
    "y1=closest_points['highway-mpg']\n",
    "z1=closest_points['price']\n",
    "# Creating figure\n",
    "fig = plt.figure(figsize = (10, 7))\n",
    "ax = plt.axes(projection='3d')\n",
    " \n",
    "# Creating plot\n",
    "ax.scatter3D(x,y,z, color = \"green\",alpha=0.4)\n",
    "ax.scatter3D(x1,y1,z1,color=\"orange\",marker='v',s=200,alpha=1)\n",
    "ax.scatter3D(x0,y0,z0,color='red',marker='s',s=50)\n",
    "# show plot\n",
    "plt.title(\"5-Nearest Neighbors\")\n",
    "plt.xlim(0,0.5)\n",
    "plt.ylim(0.2,1)\n",
    "ax.set_zlim(0,30000)\n",
    "ax.set_xlabel(\"engine-size\",fontweight ='bold')\n",
    "ax.set_ylabel(\"highway-mpg\",fontweight ='bold')\n",
    "ax.set_zlabel(\"Price\",fontweight ='bold')\n",
    "ax.legend(['samples','nearest neighbors','test point'])\n",
    "plt.show()"
   ]
  },
  {
   "cell_type": "markdown",
   "metadata": {},
   "source": [
    "The prediction for the price of the new car is simply the mean of the prices of the nearest neighbors."
   ]
  },
  {
   "cell_type": "code",
   "execution_count": 97,
   "metadata": {},
   "outputs": [
    {
     "data": {
      "text/plain": [
       "{'prediction': 6151.4, 'actual price': 7738.0}"
      ]
     },
     "execution_count": 97,
     "metadata": {},
     "output_type": "execute_result"
    }
   ],
   "source": [
    "{'prediction':closest_points['price'].mean(),'actual price':test_point['price']}"
   ]
  },
  {
   "cell_type": "markdown",
   "metadata": {},
   "source": [
    "Ok, now lets apply KNN to the whole set.\n",
    "## Model and Evaluation\n",
    "\n",
    "Now we'll try out KNN with various features and try different values for `k` as well. `k` is what's known as a hyperparameter and finding the \"best\" value for `k` is an example of [hyperparameter optimization](https://en.wikipedia.org/wiki/Hyperparameter_optimization)\n",
    "\n",
    "We'll use `KFold` and `cross_val_score` from `sklearn.model_selection` to assist us. This class and funtion we'll allow us to easily apply cross-validation to our model evaluation. \n",
    "\n",
    "`KFold` provides train/test indices to split data in train/test sets. Split dataset into l consecutive folds (without shuffling by default). Each fold is then used once as a validation while the l - 1 remaining folds form the training set.\n",
    "\n",
    "`cross_val_score` then computes the cross validation score according to some evaluation metric. For this regression we will use the standard root mean squared error."
   ]
  },
  {
   "cell_type": "code",
   "execution_count": 102,
   "metadata": {},
   "outputs": [],
   "source": [
    "from sklearn.model_selection import cross_val_score, KFold\n",
    "'''\n",
    "knn_train_test applies knn regression to a dataframe with k-fold cross validation \n",
    "and returns a float,the root mean squared error.\n",
    "\n",
    "knn_train_test takes the following argument:\n",
    "    df: a pandas dataframe\n",
    "    features: the columns to be used as features in the model. Must be a list even if length one.\n",
    "    target: the target variable for the regression\n",
    "    n: the number of neighbors (default=5)\n",
    "    folds: the number of folds used in the k-fold cross validation (default=10)\n",
    "'''\n",
    "\n",
    "def knn_train_test(df,features,target,n=5,folds=10):\n",
    "    \n",
    "    # instantiate a KFold instance where the folds are shuffled\n",
    "    \n",
    "    kf=KFold(n_splits=folds,shuffle=True,random_state=1)\n",
    "    \n",
    "    # create the KNeighborsRegressor \n",
    "    knn=KNeighborsRegressor(n_neighbors=n,algorithm='brute')\n",
    "    \n",
    "    # apply cross-validation. Returns a list of mean squared errors from each fold.\n",
    "    mses=cross_val_score(estimator=knn,X=df[features],y=df[target],scoring='neg_mean_squared_error',cv=kf)\n",
    "    \n",
    "    # take the average of the list and return this value\n",
    "    avg_rsme=np.mean(np.sqrt(np.absolute(mses)))\n",
    "    \n",
    "    return avg_rsme"
   ]
  },
  {
   "cell_type": "markdown",
   "metadata": {},
   "source": [
    "## Feature Selection\n",
    "\n",
    "First, we'll try just one feature and 5 neighbors and see which feature picks price the best."
   ]
  },
  {
   "cell_type": "code",
   "execution_count": 103,
   "metadata": {},
   "outputs": [
    {
     "data": {
      "text/plain": [
       "{'normalized-losses': 6323.013399622463,\n",
       " 'wheel-base': 5676.480374517227,\n",
       " 'length': 5049.551484658347,\n",
       " 'width': 4274.563982170558,\n",
       " 'height': 7617.330945525906,\n",
       " 'curb-weight': 4248.131164348986,\n",
       " 'engine-size': 3022.066973616294,\n",
       " 'bore': 6787.242702984874,\n",
       " 'stroke': 7184.461340623811,\n",
       " 'compression-ratio': 6511.23288304368,\n",
       " 'horsepower': 3843.6257133375448,\n",
       " 'peak-rpm': 7227.497100872575,\n",
       " 'city-mpg': 4212.517293004572,\n",
       " 'highway-mpg': 4272.058028231421}"
      ]
     },
     "execution_count": 103,
     "metadata": {},
     "output_type": "execute_result"
    }
   ],
   "source": [
    "# Gives a dictionary with the feature and the average root mean squared error after cross-validation\n",
    "\n",
    "rsmes_univariate={}\n",
    "for col in numeric_cars[features].columns:\n",
    "    rsme_col=knn_train_test(df=numeric_cars,features=[col],target='price')\n",
    "    rsmes_univariate[col]=rsme_col\n",
    "rsmes_univariate"
   ]
  },
  {
   "cell_type": "code",
   "execution_count": 104,
   "metadata": {},
   "outputs": [
    {
     "data": {
      "text/plain": [
       "('engine-size', 3022.066973616294)"
      ]
     },
     "execution_count": 104,
     "metadata": {},
     "output_type": "execute_result"
    }
   ],
   "source": [
    "min(rsmes_univariate.items(), key=lambda x: x[1]) "
   ]
  },
  {
   "cell_type": "markdown",
   "metadata": {},
   "source": [
    "### Hyperparameter Tuning\n",
    "So for `k=5` and a single feature, it seems `engine-size` is the best predictor. Let's see if this changes as we let `k` vary."
   ]
  },
  {
   "cell_type": "code",
   "execution_count": 105,
   "metadata": {},
   "outputs": [],
   "source": [
    "#Convert above dictionaty to a Series object.\n",
    "rsmes_univariate=pd.Series(rsmes_univariate).sort_values()"
   ]
  },
  {
   "cell_type": "code",
   "execution_count": 117,
   "metadata": {},
   "outputs": [],
   "source": [
    "# Gives a dictionary with the feature and the average root mean squared error after cross-validation\n",
    "# for various k's\n",
    "ks=[1,3,5,7,9]\n",
    "rsmes_univariate_k={}\n",
    "for col in numeric_cars[features].columns:\n",
    "    k_neighbors={}\n",
    "    for k in ks:\n",
    "        rsme_col=knn_train_test(df=numeric_cars,features=[col],target='price',n=k)\n",
    "        k_neighbors[k]=rsme_col\n",
    "    rsmes_univariate_k[col]=k_neighbors"
   ]
  },
  {
   "cell_type": "code",
   "execution_count": 119,
   "metadata": {},
   "outputs": [
    {
     "data": {
      "text/plain": [
       "{'normalized-losses': {1: 6773.737662669698,\n",
       "  3: 6129.283046437764,\n",
       "  5: 6323.013399622463,\n",
       "  7: 6878.903952452466,\n",
       "  9: 7523.823920998674},\n",
       " 'wheel-base': {1: 4838.811735426543,\n",
       "  3: 4788.918931896196,\n",
       "  5: 5676.480374517227,\n",
       "  7: 5966.842431834928,\n",
       "  9: 5888.137986356905},\n",
       " 'length': {1: 5092.264401956441,\n",
       "  3: 5230.033935409053,\n",
       "  5: 5049.551484658347,\n",
       "  7: 5301.361304144377,\n",
       "  9: 5400.703964848575},\n",
       " 'width': {1: 4990.5188305466945,\n",
       "  3: 4217.846360101605,\n",
       "  5: 4274.563982170558,\n",
       "  7: 4408.260228765127,\n",
       "  9: 4370.133823152318},\n",
       " 'height': {1: 10559.769233683894,\n",
       "  3: 8122.506562495744,\n",
       "  5: 7617.330945525906,\n",
       "  7: 7570.889893561279,\n",
       "  9: 7435.227162200526},\n",
       " 'curb-weight': {1: 5131.016591427542,\n",
       "  3: 4585.946768732755,\n",
       "  5: 4248.131164348986,\n",
       "  7: 4115.152341202806,\n",
       "  9: 3966.241024982434},\n",
       " 'engine-size': {1: 3851.652772164489,\n",
       "  3: 3264.0359997322735,\n",
       "  5: 3022.066973616294,\n",
       "  7: 3264.995147253416,\n",
       "  9: 3479.1845889746255},\n",
       " 'bore': {1: 9361.967611905924,\n",
       "  3: 9261.250177810802,\n",
       "  5: 6787.242702984874,\n",
       "  7: 6729.235634898136,\n",
       "  9: 6812.583990629963},\n",
       " 'stroke': {1: 8949.015410265238,\n",
       "  3: 8483.459081828263,\n",
       "  5: 7184.461340623811,\n",
       "  7: 7237.437686557409,\n",
       "  9: 7317.359958339717},\n",
       " 'compression-ratio': {1: 7461.267154949103,\n",
       "  3: 6491.506885202596,\n",
       "  5: 6511.23288304368,\n",
       "  7: 6482.886121243262,\n",
       "  9: 6307.805232834919},\n",
       " 'horsepower': {1: 3537.2308370394917,\n",
       "  3: 3820.1999875243464,\n",
       "  5: 3843.6257133375448,\n",
       "  7: 3799.7547515589504,\n",
       "  9: 3831.7907328666856},\n",
       " 'peak-rpm': {1: 8574.283520524656,\n",
       "  3: 8174.036846036368,\n",
       "  5: 7227.497100872575,\n",
       "  7: 7312.706274325428,\n",
       "  9: 7654.450839661336},\n",
       " 'city-mpg': {1: 4456.365948231014,\n",
       "  3: 4331.565256334018,\n",
       "  5: 4212.517293004572,\n",
       "  7: 4363.1101033533405,\n",
       "  9: 4406.263672440813},\n",
       " 'highway-mpg': {1: 5430.30488809365,\n",
       "  3: 4665.947558293721,\n",
       "  5: 4272.058028231421,\n",
       "  7: 4257.2132661412525,\n",
       "  9: 4098.461548793672}}"
      ]
     },
     "execution_count": 119,
     "metadata": {},
     "output_type": "execute_result"
    }
   ],
   "source": [
    "rsmes_univariate_k"
   ]
  },
  {
   "cell_type": "markdown",
   "metadata": {},
   "source": [
    "Now we'll plot the results."
   ]
  },
  {
   "cell_type": "code",
   "execution_count": 127,
   "metadata": {},
   "outputs": [
    {
     "data": {
      "text/plain": [
       "<matplotlib.legend.Legend at 0x108903eb8>"
      ]
     },
     "execution_count": 127,
     "metadata": {},
     "output_type": "execute_result"
    },
    {
     "data": {
      "image/png": "[encoded data removed]",
      "text/plain": [
       "<Figure size 1080x504 with 1 Axes>"
      ]
     },
     "metadata": {
      "needs_background": "light"
     },
     "output_type": "display_data"
    }
   ],
   "source": [
    "import matplotlib.pyplot as plt\n",
    "%matplotlib inline\n",
    "fig=plt.figure(figsize = (15, 7))\n",
    "ax=plt.axes()\n",
    "for k,v in rsmes_univariate_k.items():\n",
    "    x = list(v.keys())\n",
    "    y = list(v.values())\n",
    "    \n",
    "    plt.plot(x,y)\n",
    "plt.xlabel('k value')\n",
    "plt.ylabel('RMSE')\n",
    "plt.legend(labels=numeric_cars[features].columns)"
   ]
  },
  {
   "cell_type": "markdown",
   "metadata": {},
   "source": [
    "So we see that except in the 1-nearest neighbor case, `engine-size` is the best univariate predictor for price!\n",
    "\n",
    "## Mutivariate Nearest Neighbors and Feature Selection.\n",
    "\n",
    "Now we'll see how adding more features changes the model's accuracy. These are the possible features."
   ]
  },
  {
   "cell_type": "code",
   "execution_count": 154,
   "metadata": {},
   "outputs": [
    {
     "data": {
      "text/plain": [
       "Index(['engine-size', 'horsepower', 'city-mpg', 'curb-weight', 'highway-mpg',\n",
       "       'width', 'length', 'wheel-base', 'normalized-losses',\n",
       "       'compression-ratio', 'bore', 'stroke', 'peak-rpm', 'height'],\n",
       "      dtype='object')"
      ]
     },
     "execution_count": 154,
     "metadata": {},
     "output_type": "execute_result"
    }
   ],
   "source": [
    "# list of possible features in ascending oreder based on how they performed in univatiate 5-NN regression\n",
    "rsmes_univariate.index"
   ]
  },
  {
   "cell_type": "markdown",
   "metadata": {},
   "source": [
    "How can we choose which [features](https://en.wikipedia.org/wiki/Feature_selection) to use? This is a central question to any machine learning problem. There are many techniques for this such as forwards and backwards [stepwise selection](https://en.wikipedia.org/wiki/Stepwise_regression). For our purposes we'll use the `permutation_importance` method from `sklearn.inspection` for feature selection."
   ]
  },
  {
   "cell_type": "code",
   "execution_count": 182,
   "metadata": {},
   "outputs": [
    {
     "data": {
      "image/png": "[encoded data removed]",
      "text/plain": [
       "<Figure size 432x288 with 1 Axes>"
      ]
     },
     "metadata": {
      "needs_background": "light"
     },
     "output_type": "display_data"
    }
   ],
   "source": [
    "# permutation feature importance with knn for regression\n",
    "\n",
    "from sklearn.inspection import permutation_importance\n",
    "\n",
    "# data to be fit by KNN\n",
    "X, y = numeric_cars[features],target\n",
    "model = KNeighborsRegressor()\n",
    "# fit the model\n",
    "model.fit(X, y)\n",
    "# perform permutation importance\n",
    "results = permutation_importance(model, X, y, scoring='neg_mean_squared_error')\n",
    "# get importance\n",
    "importance = results.importances_mean\n",
    "\n",
    "# plot feature importance\n",
    "pyplot.bar([features[x] for x in range(len(importance))], importance)\n",
    "plt.xticks(rotation = 90)\n",
    "pyplot.show()"
   ]
  },
  {
   "cell_type": "code",
   "execution_count": 185,
   "metadata": {},
   "outputs": [
    {
     "data": {
      "text/plain": [
       "['engine-size',\n",
       " 'horsepower',\n",
       " 'curb-weight',\n",
       " 'width',\n",
       " 'city-mpg',\n",
       " 'height',\n",
       " 'peak-rpm',\n",
       " 'compression-ratio',\n",
       " 'wheel-base',\n",
       " 'bore',\n",
       " 'length',\n",
       " 'stroke',\n",
       " 'highway-mpg',\n",
       " 'normalized-losses']"
      ]
     },
     "execution_count": 185,
     "metadata": {},
     "output_type": "execute_result"
    }
   ],
   "source": [
    "# sort features by importance\n",
    "importance_dict={features[i]:v for i,v in enumerate(importance)}\n",
    "importance_series=pd.Series(importance_dict)\n",
    "importance_series.sort_values(axis=0,ascending=False,inplace=True)\n",
    "list(importance_series.index)"
   ]
  },
  {
   "cell_type": "markdown",
   "metadata": {},
   "source": [
    "We'll first try out different numbers of features for 5-nearest neighbors."
   ]
  },
  {
   "cell_type": "code",
   "execution_count": 186,
   "metadata": {},
   "outputs": [],
   "source": [
    "# Tries 5-nearest neighbor regression with between 2 and 10 features.\n",
    "rsmes_multi={}\n",
    "for i in range(2,11):\n",
    "    rsme_i=knn_train_test(df=numeric_cars,features=importance_series.index[:i],target='price')\n",
    "    rsmes_multi[i]=rsme_i"
   ]
  },
  {
   "cell_type": "code",
   "execution_count": 194,
   "metadata": {},
   "outputs": [
    {
     "data": {
      "text/plain": [
       "{2: 2757.645736273678,\n",
       " 4: 3017.748504491905,\n",
       " 5: 3020.3559625631997,\n",
       " 3: 3169.8429953454843,\n",
       " 7: 3185.66670677813,\n",
       " 8: 3194.4853197028365,\n",
       " 6: 3295.6609983298536,\n",
       " 9: 3387.746483247506,\n",
       " 10: 3557.593992716097}"
      ]
     },
     "execution_count": 194,
     "metadata": {},
     "output_type": "execute_result"
    }
   ],
   "source": [
    "dict(sorted(rsmes_multi.items(), key=lambda item: item[1]))"
   ]
  },
  {
   "cell_type": "markdown",
   "metadata": {},
   "source": [
    "It seems that a smaller number of features performs better. We can see if this cahnges as we very the number of neighbors."
   ]
  },
  {
   "cell_type": "code",
   "execution_count": 191,
   "metadata": {},
   "outputs": [],
   "source": [
    "# Finde the cross-validated error for models varying both the number of features and neighbors up to 10.\n",
    "rsmes_multivariate={}\n",
    "for i in range(2,11):\n",
    "    rsme_i_kneighbors={}\n",
    "    for k in range(2,11):\n",
    "        rsme_i_k=knn_train_test(df=numeric_cars,features=importance_series.index[:i],target='price',n=k)\n",
    "        rsme_i_kneighbors[k]=rsme_i_k\n",
    "    rsmes_multivariate[i]=rsme_i_kneighbors"
   ]
  },
  {
   "cell_type": "code",
   "execution_count": 192,
   "metadata": {},
   "outputs": [],
   "source": [
    "# Convert dictionary to DataFrame\n",
    "rsmes_multivariate=pd.DataFrame(rsmes_multivariate)"
   ]
  },
  {
   "cell_type": "code",
   "execution_count": 193,
   "metadata": {},
   "outputs": [
    {
     "data": {
      "text/plain": [
       "<matplotlib.legend.Legend at 0x130801b00>"
      ]
     },
     "execution_count": 193,
     "metadata": {},
     "output_type": "execute_result"
    },
    {
     "data": {
      "image/png": "[encoded data removed]",
      "text/plain": [
       "<Figure size 432x288 with 1 Axes>"
      ]
     },
     "metadata": {
      "needs_background": "light"
     },
     "output_type": "display_data"
    }
   ],
   "source": [
    "plt.plot(rsmes_multivariate)\n",
    "plt.xlabel('Number of Neighbors')\n",
    "plt.ylabel('RSME')\n",
    "plt.legend(labels=rsmes_multivariate.columns)"
   ]
  }
 ],
 "metadata": {
  "kernelspec": {
   "display_name": "Python 3",
   "language": "python",
   "name": "python3"
  },
  "language_info": {
   "codemirror_mode": {
    "name": "ipython",
    "version": 3
   },
   "file_extension": ".py",
   "mimetype": "text/x-python",
   "name": "python",
   "nbconvert_exporter": "python",
   "pygments_lexer": "ipython3",
   "version": "3.7.3"
  }
 },
 "nbformat": 4,
 "nbformat_minor": 4
}
